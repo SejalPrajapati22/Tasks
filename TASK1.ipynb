{
 "cells": [
  {
   "cell_type": "markdown",
   "id": "050ac538-9c3c-456d-8689-3b48b0cb7dcc",
   "metadata": {},
   "source": [
    "# TASK 1"
   ]
  },
  {
   "cell_type": "markdown",
   "id": "41cbe62a-1e82-437b-a5ad-6bb8f58ffe34",
   "metadata": {},
   "source": [
    "## Importing necessary libraries\n"
   ]
  },
  {
   "cell_type": "code",
   "execution_count": 1,
   "id": "dbfa9dd5-b530-408c-a938-7d69ebfa4722",
   "metadata": {},
   "outputs": [],
   "source": [
    "import pandas as pd\n",
    "import numpy as np\n",
    "import matplotlib.pyplot as plt\n",
    "import seaborn as sns"
   ]
  },
  {
   "cell_type": "code",
   "execution_count": 2,
   "id": "8c078875-f2d8-463d-9289-20e8e5424759",
   "metadata": {},
   "outputs": [
    {
     "name": "stdout",
     "output_type": "stream",
     "text": [
      "Requirement already satisfied: pandas in c:\\users\\visha\\appdata\\local\\programs\\python\\python312\\lib\\site-packages (2.2.2)\n",
      "Requirement already satisfied: numpy>=1.26.0 in c:\\users\\visha\\appdata\\local\\programs\\python\\python312\\lib\\site-packages (from pandas) (2.1.0)\n",
      "Requirement already satisfied: python-dateutil>=2.8.2 in c:\\users\\visha\\appdata\\local\\programs\\python\\python312\\lib\\site-packages (from pandas) (2.9.0.post0)\n",
      "Requirement already satisfied: pytz>=2020.1 in c:\\users\\visha\\appdata\\local\\programs\\python\\python312\\lib\\site-packages (from pandas) (2024.1)\n",
      "Requirement already satisfied: tzdata>=2022.7 in c:\\users\\visha\\appdata\\local\\programs\\python\\python312\\lib\\site-packages (from pandas) (2024.1)\n",
      "Requirement already satisfied: six>=1.5 in c:\\users\\visha\\appdata\\local\\programs\\python\\python312\\lib\\site-packages (from python-dateutil>=2.8.2->pandas) (1.16.0)\n",
      "Requirement already satisfied: numpy in c:\\users\\visha\\appdata\\local\\programs\\python\\python312\\lib\\site-packages (2.1.0)\n",
      "Requirement already satisfied: matplotlib in c:\\users\\visha\\appdata\\local\\programs\\python\\python312\\lib\\site-packages (3.9.2)\n",
      "Requirement already satisfied: contourpy>=1.0.1 in c:\\users\\visha\\appdata\\local\\programs\\python\\python312\\lib\\site-packages (from matplotlib) (1.2.1)\n",
      "Requirement already satisfied: cycler>=0.10 in c:\\users\\visha\\appdata\\local\\programs\\python\\python312\\lib\\site-packages (from matplotlib) (0.12.1)\n",
      "Requirement already satisfied: fonttools>=4.22.0 in c:\\users\\visha\\appdata\\local\\programs\\python\\python312\\lib\\site-packages (from matplotlib) (4.53.1)\n",
      "Requirement already satisfied: kiwisolver>=1.3.1 in c:\\users\\visha\\appdata\\local\\programs\\python\\python312\\lib\\site-packages (from matplotlib) (1.4.5)\n",
      "Requirement already satisfied: numpy>=1.23 in c:\\users\\visha\\appdata\\local\\programs\\python\\python312\\lib\\site-packages (from matplotlib) (2.1.0)\n",
      "Requirement already satisfied: packaging>=20.0 in c:\\users\\visha\\appdata\\local\\programs\\python\\python312\\lib\\site-packages (from matplotlib) (24.1)\n",
      "Requirement already satisfied: pillow>=8 in c:\\users\\visha\\appdata\\local\\programs\\python\\python312\\lib\\site-packages (from matplotlib) (10.4.0)\n",
      "Requirement already satisfied: pyparsing>=2.3.1 in c:\\users\\visha\\appdata\\local\\programs\\python\\python312\\lib\\site-packages (from matplotlib) (3.1.2)\n",
      "Requirement already satisfied: python-dateutil>=2.7 in c:\\users\\visha\\appdata\\local\\programs\\python\\python312\\lib\\site-packages (from matplotlib) (2.9.0.post0)\n",
      "Requirement already satisfied: six>=1.5 in c:\\users\\visha\\appdata\\local\\programs\\python\\python312\\lib\\site-packages (from python-dateutil>=2.7->matplotlib) (1.16.0)\n",
      "Requirement already satisfied: seaborn in c:\\users\\visha\\appdata\\local\\programs\\python\\python312\\lib\\site-packages (0.13.2)\n",
      "Requirement already satisfied: numpy!=1.24.0,>=1.20 in c:\\users\\visha\\appdata\\local\\programs\\python\\python312\\lib\\site-packages (from seaborn) (2.1.0)\n",
      "Requirement already satisfied: pandas>=1.2 in c:\\users\\visha\\appdata\\local\\programs\\python\\python312\\lib\\site-packages (from seaborn) (2.2.2)\n",
      "Requirement already satisfied: matplotlib!=3.6.1,>=3.4 in c:\\users\\visha\\appdata\\local\\programs\\python\\python312\\lib\\site-packages (from seaborn) (3.9.2)\n",
      "Requirement already satisfied: contourpy>=1.0.1 in c:\\users\\visha\\appdata\\local\\programs\\python\\python312\\lib\\site-packages (from matplotlib!=3.6.1,>=3.4->seaborn) (1.2.1)\n",
      "Requirement already satisfied: cycler>=0.10 in c:\\users\\visha\\appdata\\local\\programs\\python\\python312\\lib\\site-packages (from matplotlib!=3.6.1,>=3.4->seaborn) (0.12.1)\n",
      "Requirement already satisfied: fonttools>=4.22.0 in c:\\users\\visha\\appdata\\local\\programs\\python\\python312\\lib\\site-packages (from matplotlib!=3.6.1,>=3.4->seaborn) (4.53.1)\n",
      "Requirement already satisfied: kiwisolver>=1.3.1 in c:\\users\\visha\\appdata\\local\\programs\\python\\python312\\lib\\site-packages (from matplotlib!=3.6.1,>=3.4->seaborn) (1.4.5)\n",
      "Requirement already satisfied: packaging>=20.0 in c:\\users\\visha\\appdata\\local\\programs\\python\\python312\\lib\\site-packages (from matplotlib!=3.6.1,>=3.4->seaborn) (24.1)\n",
      "Requirement already satisfied: pillow>=8 in c:\\users\\visha\\appdata\\local\\programs\\python\\python312\\lib\\site-packages (from matplotlib!=3.6.1,>=3.4->seaborn) (10.4.0)\n",
      "Requirement already satisfied: pyparsing>=2.3.1 in c:\\users\\visha\\appdata\\local\\programs\\python\\python312\\lib\\site-packages (from matplotlib!=3.6.1,>=3.4->seaborn) (3.1.2)\n",
      "Requirement already satisfied: python-dateutil>=2.7 in c:\\users\\visha\\appdata\\local\\programs\\python\\python312\\lib\\site-packages (from matplotlib!=3.6.1,>=3.4->seaborn) (2.9.0.post0)\n",
      "Requirement already satisfied: pytz>=2020.1 in c:\\users\\visha\\appdata\\local\\programs\\python\\python312\\lib\\site-packages (from pandas>=1.2->seaborn) (2024.1)\n",
      "Requirement already satisfied: tzdata>=2022.7 in c:\\users\\visha\\appdata\\local\\programs\\python\\python312\\lib\\site-packages (from pandas>=1.2->seaborn) (2024.1)\n",
      "Requirement already satisfied: six>=1.5 in c:\\users\\visha\\appdata\\local\\programs\\python\\python312\\lib\\site-packages (from python-dateutil>=2.7->matplotlib!=3.6.1,>=3.4->seaborn) (1.16.0)\n"
     ]
    }
   ],
   "source": [
    "!pip install pandas \n",
    "!pip install numpy\n",
    "!pip install matplotlib\n",
    "!pip install seaborn"
   ]
  },
  {
   "cell_type": "markdown",
   "id": "6c1ea543-d570-4937-924a-1da4a3d6cadb",
   "metadata": {},
   "source": [
    "## Reading csv files"
   ]
  },
  {
   "cell_type": "code",
   "execution_count": 51,
   "id": "ee6f9edf-84a8-4909-9fca-8dbe2bba31c9",
   "metadata": {},
   "outputs": [],
   "source": [
    "df=pd.read_csv(\"worldpopulationdata.csv\")"
   ]
  },
  {
   "cell_type": "markdown",
   "id": "969e6719-033f-4922-93e1-c8ed880ba03a",
   "metadata": {},
   "source": [
    "## checking top 10 rows data"
   ]
  },
  {
   "cell_type": "markdown",
   "id": "0a13da79-6caf-471b-9e6b-871a51fa93a3",
   "metadata": {},
   "source": [
    "df.head(5)"
   ]
  },
  {
   "cell_type": "markdown",
   "id": "626d4456-4352-463d-b965-bd8aea29e47e",
   "metadata": {},
   "source": [
    "## checking data from bottom"
   ]
  },
  {
   "cell_type": "code",
   "execution_count": 5,
   "id": "fd703a4e-c85d-4320-b423-42974c5128e2",
   "metadata": {},
   "outputs": [
    {
     "data": {
      "text/html": [
       "<div>\n",
       "<style scoped>\n",
       "    .dataframe tbody tr th:only-of-type {\n",
       "        vertical-align: middle;\n",
       "    }\n",
       "\n",
       "    .dataframe tbody tr th {\n",
       "        vertical-align: top;\n",
       "    }\n",
       "\n",
       "    .dataframe thead th {\n",
       "        text-align: right;\n",
       "    }\n",
       "</style>\n",
       "<table border=\"1\" class=\"dataframe\">\n",
       "  <thead>\n",
       "    <tr style=\"text-align: right;\">\n",
       "      <th></th>\n",
       "      <th>Series Name</th>\n",
       "      <th>Series Code</th>\n",
       "      <th>Country Name</th>\n",
       "      <th>Country Code</th>\n",
       "      <th>2022</th>\n",
       "      <th>2021</th>\n",
       "      <th>2020</th>\n",
       "      <th>2019</th>\n",
       "      <th>2018</th>\n",
       "      <th>2017</th>\n",
       "      <th>...</th>\n",
       "      <th>2010</th>\n",
       "      <th>2009</th>\n",
       "      <th>2008</th>\n",
       "      <th>2007</th>\n",
       "      <th>2006</th>\n",
       "      <th>2005</th>\n",
       "      <th>2004</th>\n",
       "      <th>2003</th>\n",
       "      <th>2002</th>\n",
       "      <th>2001</th>\n",
       "    </tr>\n",
       "  </thead>\n",
       "  <tbody>\n",
       "    <tr>\n",
       "      <th>1080</th>\n",
       "      <td>Population, male (% of total population)</td>\n",
       "      <td>SP.POP.TOTL.MA.ZS</td>\n",
       "      <td>Virgin Islands (U.S.)</td>\n",
       "      <td>VIR</td>\n",
       "      <td>46.613382</td>\n",
       "      <td>46.764444</td>\n",
       "      <td>46.914637</td>\n",
       "      <td>47.057307</td>\n",
       "      <td>47.185912</td>\n",
       "      <td>47.314214</td>\n",
       "      <td>...</td>\n",
       "      <td>47.801059</td>\n",
       "      <td>47.834540</td>\n",
       "      <td>47.870063</td>\n",
       "      <td>47.877604</td>\n",
       "      <td>47.870702</td>\n",
       "      <td>47.852669</td>\n",
       "      <td>47.825150</td>\n",
       "      <td>47.789128</td>\n",
       "      <td>47.754932</td>\n",
       "      <td>47.725126</td>\n",
       "    </tr>\n",
       "    <tr>\n",
       "      <th>1081</th>\n",
       "      <td>Population, male (% of total population)</td>\n",
       "      <td>SP.POP.TOTL.MA.ZS</td>\n",
       "      <td>West Bank and Gaza</td>\n",
       "      <td>PSE</td>\n",
       "      <td>49.893678</td>\n",
       "      <td>49.877839</td>\n",
       "      <td>49.858957</td>\n",
       "      <td>49.835542</td>\n",
       "      <td>49.811374</td>\n",
       "      <td>49.785969</td>\n",
       "      <td>...</td>\n",
       "      <td>49.876336</td>\n",
       "      <td>49.898677</td>\n",
       "      <td>49.921445</td>\n",
       "      <td>49.947631</td>\n",
       "      <td>49.983323</td>\n",
       "      <td>50.028649</td>\n",
       "      <td>50.089953</td>\n",
       "      <td>50.167544</td>\n",
       "      <td>50.248196</td>\n",
       "      <td>50.321633</td>\n",
       "    </tr>\n",
       "    <tr>\n",
       "      <th>1082</th>\n",
       "      <td>Population, male (% of total population)</td>\n",
       "      <td>SP.POP.TOTL.MA.ZS</td>\n",
       "      <td>Yemen, Rep.</td>\n",
       "      <td>YEM</td>\n",
       "      <td>50.519031</td>\n",
       "      <td>50.538516</td>\n",
       "      <td>50.554317</td>\n",
       "      <td>50.571320</td>\n",
       "      <td>50.596614</td>\n",
       "      <td>50.616964</td>\n",
       "      <td>...</td>\n",
       "      <td>50.594170</td>\n",
       "      <td>50.582692</td>\n",
       "      <td>50.568876</td>\n",
       "      <td>50.553633</td>\n",
       "      <td>50.539012</td>\n",
       "      <td>50.522514</td>\n",
       "      <td>50.502720</td>\n",
       "      <td>50.481666</td>\n",
       "      <td>50.459941</td>\n",
       "      <td>50.437238</td>\n",
       "    </tr>\n",
       "    <tr>\n",
       "      <th>1083</th>\n",
       "      <td>Population, male (% of total population)</td>\n",
       "      <td>SP.POP.TOTL.MA.ZS</td>\n",
       "      <td>Zambia</td>\n",
       "      <td>ZMB</td>\n",
       "      <td>49.344602</td>\n",
       "      <td>49.344951</td>\n",
       "      <td>49.338301</td>\n",
       "      <td>49.326233</td>\n",
       "      <td>49.309087</td>\n",
       "      <td>49.288400</td>\n",
       "      <td>...</td>\n",
       "      <td>49.056379</td>\n",
       "      <td>48.981404</td>\n",
       "      <td>48.888443</td>\n",
       "      <td>48.784780</td>\n",
       "      <td>48.676944</td>\n",
       "      <td>48.571398</td>\n",
       "      <td>48.476900</td>\n",
       "      <td>48.393634</td>\n",
       "      <td>48.313646</td>\n",
       "      <td>48.229968</td>\n",
       "    </tr>\n",
       "    <tr>\n",
       "      <th>1084</th>\n",
       "      <td>Population, male (% of total population)</td>\n",
       "      <td>SP.POP.TOTL.MA.ZS</td>\n",
       "      <td>Zimbabwe</td>\n",
       "      <td>ZWE</td>\n",
       "      <td>47.214139</td>\n",
       "      <td>47.167153</td>\n",
       "      <td>47.130679</td>\n",
       "      <td>47.099796</td>\n",
       "      <td>47.076238</td>\n",
       "      <td>47.051613</td>\n",
       "      <td>...</td>\n",
       "      <td>46.995893</td>\n",
       "      <td>47.049546</td>\n",
       "      <td>47.106068</td>\n",
       "      <td>47.166435</td>\n",
       "      <td>47.190963</td>\n",
       "      <td>47.231433</td>\n",
       "      <td>47.324096</td>\n",
       "      <td>47.387633</td>\n",
       "      <td>47.428426</td>\n",
       "      <td>47.460469</td>\n",
       "    </tr>\n",
       "  </tbody>\n",
       "</table>\n",
       "<p>5 rows × 26 columns</p>\n",
       "</div>"
      ],
      "text/plain": [
       "                                   Series Name        Series Code  \\\n",
       "1080  Population, male (% of total population)  SP.POP.TOTL.MA.ZS   \n",
       "1081  Population, male (% of total population)  SP.POP.TOTL.MA.ZS   \n",
       "1082  Population, male (% of total population)  SP.POP.TOTL.MA.ZS   \n",
       "1083  Population, male (% of total population)  SP.POP.TOTL.MA.ZS   \n",
       "1084  Population, male (% of total population)  SP.POP.TOTL.MA.ZS   \n",
       "\n",
       "               Country Name Country Code       2022       2021       2020  \\\n",
       "1080  Virgin Islands (U.S.)          VIR  46.613382  46.764444  46.914637   \n",
       "1081     West Bank and Gaza          PSE  49.893678  49.877839  49.858957   \n",
       "1082            Yemen, Rep.          YEM  50.519031  50.538516  50.554317   \n",
       "1083                 Zambia          ZMB  49.344602  49.344951  49.338301   \n",
       "1084               Zimbabwe          ZWE  47.214139  47.167153  47.130679   \n",
       "\n",
       "           2019       2018       2017  ...       2010       2009       2008  \\\n",
       "1080  47.057307  47.185912  47.314214  ...  47.801059  47.834540  47.870063   \n",
       "1081  49.835542  49.811374  49.785969  ...  49.876336  49.898677  49.921445   \n",
       "1082  50.571320  50.596614  50.616964  ...  50.594170  50.582692  50.568876   \n",
       "1083  49.326233  49.309087  49.288400  ...  49.056379  48.981404  48.888443   \n",
       "1084  47.099796  47.076238  47.051613  ...  46.995893  47.049546  47.106068   \n",
       "\n",
       "           2007       2006       2005       2004       2003       2002  \\\n",
       "1080  47.877604  47.870702  47.852669  47.825150  47.789128  47.754932   \n",
       "1081  49.947631  49.983323  50.028649  50.089953  50.167544  50.248196   \n",
       "1082  50.553633  50.539012  50.522514  50.502720  50.481666  50.459941   \n",
       "1083  48.784780  48.676944  48.571398  48.476900  48.393634  48.313646   \n",
       "1084  47.166435  47.190963  47.231433  47.324096  47.387633  47.428426   \n",
       "\n",
       "           2001  \n",
       "1080  47.725126  \n",
       "1081  50.321633  \n",
       "1082  50.437238  \n",
       "1083  48.229968  \n",
       "1084  47.460469  \n",
       "\n",
       "[5 rows x 26 columns]"
      ]
     },
     "execution_count": 5,
     "metadata": {},
     "output_type": "execute_result"
    }
   ],
   "source": [
    "df.tail(5)"
   ]
  },
  {
   "cell_type": "markdown",
   "id": "91b81553-aabd-48f7-9cca-4fe8922099a2",
   "metadata": {},
   "source": [
    "## checking thee coulmns of the dataset"
   ]
  },
  {
   "cell_type": "code",
   "execution_count": 6,
   "id": "24920192-1cf4-42d4-aad1-a3d7972d9ca4",
   "metadata": {},
   "outputs": [
    {
     "data": {
      "text/plain": [
       "Index(['Series Name', 'Series Code', 'Country Name', 'Country Code', '2022',\n",
       "       '2021', '2020', '2019', '2018', '2017', '2016', '2015', '2014', '2013',\n",
       "       '2012', '2011', '2010', '2009', '2008', '2007', '2006', '2005', '2004',\n",
       "       '2003', '2002', '2001'],\n",
       "      dtype='object')"
      ]
     },
     "execution_count": 6,
     "metadata": {},
     "output_type": "execute_result"
    }
   ],
   "source": [
    "df.columns"
   ]
  },
  {
   "cell_type": "markdown",
   "id": "04797e0f-3727-41ad-9493-a4c81145957b",
   "metadata": {},
   "source": [
    "## some information about the dataset"
   ]
  },
  {
   "cell_type": "code",
   "execution_count": 7,
   "id": "04945b67-0df1-4c5c-89a9-af65dbf8930c",
   "metadata": {},
   "outputs": [
    {
     "name": "stdout",
     "output_type": "stream",
     "text": [
      "<class 'pandas.core.frame.DataFrame'>\n",
      "RangeIndex: 1085 entries, 0 to 1084\n",
      "Data columns (total 26 columns):\n",
      " #   Column        Non-Null Count  Dtype  \n",
      "---  ------        --------------  -----  \n",
      " 0   Series Name   1085 non-null   object \n",
      " 1   Series Code   1085 non-null   object \n",
      " 2   Country Name  1085 non-null   object \n",
      " 3   Country Code  1085 non-null   object \n",
      " 4   2022          1085 non-null   float64\n",
      " 5   2021          1085 non-null   float64\n",
      " 6   2020          1085 non-null   float64\n",
      " 7   2019          1085 non-null   float64\n",
      " 8   2018          1085 non-null   float64\n",
      " 9   2017          1085 non-null   float64\n",
      " 10  2016          1085 non-null   float64\n",
      " 11  2015          1085 non-null   float64\n",
      " 12  2014          1085 non-null   float64\n",
      " 13  2013          1085 non-null   float64\n",
      " 14  2012          1085 non-null   float64\n",
      " 15  2011          1085 non-null   float64\n",
      " 16  2010          1085 non-null   float64\n",
      " 17  2009          1085 non-null   float64\n",
      " 18  2008          1085 non-null   float64\n",
      " 19  2007          1085 non-null   float64\n",
      " 20  2006          1085 non-null   float64\n",
      " 21  2005          1085 non-null   float64\n",
      " 22  2004          1085 non-null   float64\n",
      " 23  2003          1085 non-null   float64\n",
      " 24  2002          1085 non-null   float64\n",
      " 25  2001          1085 non-null   float64\n",
      "dtypes: float64(22), object(4)\n",
      "memory usage: 220.5+ KB\n"
     ]
    }
   ],
   "source": [
    "df.info()"
   ]
  },
  {
   "cell_type": "code",
   "execution_count": 8,
   "id": "44e053af-5310-4a98-bdeb-e4ffde9ea33d",
   "metadata": {},
   "outputs": [
    {
     "data": {
      "text/html": [
       "<div>\n",
       "<style scoped>\n",
       "    .dataframe tbody tr th:only-of-type {\n",
       "        vertical-align: middle;\n",
       "    }\n",
       "\n",
       "    .dataframe tbody tr th {\n",
       "        vertical-align: top;\n",
       "    }\n",
       "\n",
       "    .dataframe thead th {\n",
       "        text-align: right;\n",
       "    }\n",
       "</style>\n",
       "<table border=\"1\" class=\"dataframe\">\n",
       "  <thead>\n",
       "    <tr style=\"text-align: right;\">\n",
       "      <th></th>\n",
       "      <th>2022</th>\n",
       "      <th>2021</th>\n",
       "      <th>2020</th>\n",
       "      <th>2019</th>\n",
       "      <th>2018</th>\n",
       "      <th>2017</th>\n",
       "      <th>2016</th>\n",
       "      <th>2015</th>\n",
       "      <th>2014</th>\n",
       "      <th>2013</th>\n",
       "      <th>...</th>\n",
       "      <th>2010</th>\n",
       "      <th>2009</th>\n",
       "      <th>2008</th>\n",
       "      <th>2007</th>\n",
       "      <th>2006</th>\n",
       "      <th>2005</th>\n",
       "      <th>2004</th>\n",
       "      <th>2003</th>\n",
       "      <th>2002</th>\n",
       "      <th>2001</th>\n",
       "    </tr>\n",
       "  </thead>\n",
       "  <tbody>\n",
       "    <tr>\n",
       "      <th>count</th>\n",
       "      <td>1.085000e+03</td>\n",
       "      <td>1.085000e+03</td>\n",
       "      <td>1.085000e+03</td>\n",
       "      <td>1.085000e+03</td>\n",
       "      <td>1.085000e+03</td>\n",
       "      <td>1.085000e+03</td>\n",
       "      <td>1.085000e+03</td>\n",
       "      <td>1.085000e+03</td>\n",
       "      <td>1.085000e+03</td>\n",
       "      <td>1.085000e+03</td>\n",
       "      <td>...</td>\n",
       "      <td>1.085000e+03</td>\n",
       "      <td>1.085000e+03</td>\n",
       "      <td>1.085000e+03</td>\n",
       "      <td>1.085000e+03</td>\n",
       "      <td>1.085000e+03</td>\n",
       "      <td>1.085000e+03</td>\n",
       "      <td>1.085000e+03</td>\n",
       "      <td>1.085000e+03</td>\n",
       "      <td>1.085000e+03</td>\n",
       "      <td>1.085000e+03</td>\n",
       "    </tr>\n",
       "    <tr>\n",
       "      <th>mean</th>\n",
       "      <td>1.461378e+07</td>\n",
       "      <td>1.449711e+07</td>\n",
       "      <td>1.437307e+07</td>\n",
       "      <td>1.422876e+07</td>\n",
       "      <td>1.407966e+07</td>\n",
       "      <td>1.392568e+07</td>\n",
       "      <td>1.376711e+07</td>\n",
       "      <td>1.360705e+07</td>\n",
       "      <td>1.344625e+07</td>\n",
       "      <td>1.328368e+07</td>\n",
       "      <td>...</td>\n",
       "      <td>1.280537e+07</td>\n",
       "      <td>1.265031e+07</td>\n",
       "      <td>1.249535e+07</td>\n",
       "      <td>1.234099e+07</td>\n",
       "      <td>1.218858e+07</td>\n",
       "      <td>1.203685e+07</td>\n",
       "      <td>1.188626e+07</td>\n",
       "      <td>1.173626e+07</td>\n",
       "      <td>1.158653e+07</td>\n",
       "      <td>1.143598e+07</td>\n",
       "    </tr>\n",
       "    <tr>\n",
       "      <th>std</th>\n",
       "      <td>7.832944e+07</td>\n",
       "      <td>7.801505e+07</td>\n",
       "      <td>7.763257e+07</td>\n",
       "      <td>7.712985e+07</td>\n",
       "      <td>7.657562e+07</td>\n",
       "      <td>7.596457e+07</td>\n",
       "      <td>7.528760e+07</td>\n",
       "      <td>7.461740e+07</td>\n",
       "      <td>7.394894e+07</td>\n",
       "      <td>7.325356e+07</td>\n",
       "      <td>...</td>\n",
       "      <td>7.113128e+07</td>\n",
       "      <td>7.047509e+07</td>\n",
       "      <td>6.982016e+07</td>\n",
       "      <td>6.915934e+07</td>\n",
       "      <td>6.849229e+07</td>\n",
       "      <td>6.780708e+07</td>\n",
       "      <td>6.710041e+07</td>\n",
       "      <td>6.638386e+07</td>\n",
       "      <td>6.565651e+07</td>\n",
       "      <td>6.490862e+07</td>\n",
       "    </tr>\n",
       "    <tr>\n",
       "      <th>min</th>\n",
       "      <td>2.749000e+01</td>\n",
       "      <td>2.732503e+01</td>\n",
       "      <td>2.735104e+01</td>\n",
       "      <td>2.676295e+01</td>\n",
       "      <td>2.573928e+01</td>\n",
       "      <td>2.508394e+01</td>\n",
       "      <td>2.464721e+01</td>\n",
       "      <td>2.474106e+01</td>\n",
       "      <td>2.540718e+01</td>\n",
       "      <td>2.594943e+01</td>\n",
       "      <td>...</td>\n",
       "      <td>2.425072e+01</td>\n",
       "      <td>2.339422e+01</td>\n",
       "      <td>2.356750e+01</td>\n",
       "      <td>2.520779e+01</td>\n",
       "      <td>2.831990e+01</td>\n",
       "      <td>3.096426e+01</td>\n",
       "      <td>3.129133e+01</td>\n",
       "      <td>3.137472e+01</td>\n",
       "      <td>3.146521e+01</td>\n",
       "      <td>3.156689e+01</td>\n",
       "    </tr>\n",
       "    <tr>\n",
       "      <th>25%</th>\n",
       "      <td>5.034029e+01</td>\n",
       "      <td>5.035172e+01</td>\n",
       "      <td>5.034171e+01</td>\n",
       "      <td>5.033040e+01</td>\n",
       "      <td>5.033917e+01</td>\n",
       "      <td>5.033041e+01</td>\n",
       "      <td>5.033966e+01</td>\n",
       "      <td>5.033554e+01</td>\n",
       "      <td>5.032504e+01</td>\n",
       "      <td>5.033767e+01</td>\n",
       "      <td>...</td>\n",
       "      <td>5.034833e+01</td>\n",
       "      <td>5.036836e+01</td>\n",
       "      <td>5.037388e+01</td>\n",
       "      <td>5.036880e+01</td>\n",
       "      <td>5.038085e+01</td>\n",
       "      <td>5.037186e+01</td>\n",
       "      <td>5.036210e+01</td>\n",
       "      <td>5.039432e+01</td>\n",
       "      <td>5.039371e+01</td>\n",
       "      <td>5.038254e+01</td>\n",
       "    </tr>\n",
       "    <tr>\n",
       "      <th>50%</th>\n",
       "      <td>1.465500e+05</td>\n",
       "      <td>1.463660e+05</td>\n",
       "      <td>1.461650e+05</td>\n",
       "      <td>1.459570e+05</td>\n",
       "      <td>1.457520e+05</td>\n",
       "      <td>1.441350e+05</td>\n",
       "      <td>1.406060e+05</td>\n",
       "      <td>1.371850e+05</td>\n",
       "      <td>1.349620e+05</td>\n",
       "      <td>1.328960e+05</td>\n",
       "      <td>...</td>\n",
       "      <td>1.263090e+05</td>\n",
       "      <td>1.244660e+05</td>\n",
       "      <td>1.228070e+05</td>\n",
       "      <td>1.209490e+05</td>\n",
       "      <td>1.190890e+05</td>\n",
       "      <td>1.171330e+05</td>\n",
       "      <td>1.152950e+05</td>\n",
       "      <td>1.136960e+05</td>\n",
       "      <td>1.134500e+05</td>\n",
       "      <td>1.136410e+05</td>\n",
       "    </tr>\n",
       "    <tr>\n",
       "      <th>75%</th>\n",
       "      <td>5.903468e+06</td>\n",
       "      <td>5.856733e+06</td>\n",
       "      <td>5.831404e+06</td>\n",
       "      <td>5.814422e+06</td>\n",
       "      <td>5.774185e+06</td>\n",
       "      <td>5.686999e+06</td>\n",
       "      <td>5.629265e+06</td>\n",
       "      <td>5.544490e+06</td>\n",
       "      <td>5.524552e+06</td>\n",
       "      <td>5.480089e+06</td>\n",
       "      <td>...</td>\n",
       "      <td>5.267970e+06</td>\n",
       "      <td>5.187356e+06</td>\n",
       "      <td>5.100083e+06</td>\n",
       "      <td>5.062560e+06</td>\n",
       "      <td>5.007301e+06</td>\n",
       "      <td>4.989584e+06</td>\n",
       "      <td>4.813244e+06</td>\n",
       "      <td>4.758988e+06</td>\n",
       "      <td>4.698968e+06</td>\n",
       "      <td>4.535518e+06</td>\n",
       "    </tr>\n",
       "    <tr>\n",
       "      <th>max</th>\n",
       "      <td>1.417173e+09</td>\n",
       "      <td>1.412360e+09</td>\n",
       "      <td>1.411100e+09</td>\n",
       "      <td>1.407745e+09</td>\n",
       "      <td>1.402760e+09</td>\n",
       "      <td>1.396215e+09</td>\n",
       "      <td>1.387790e+09</td>\n",
       "      <td>1.379860e+09</td>\n",
       "      <td>1.371860e+09</td>\n",
       "      <td>1.363240e+09</td>\n",
       "      <td>...</td>\n",
       "      <td>1.337705e+09</td>\n",
       "      <td>1.331260e+09</td>\n",
       "      <td>1.324655e+09</td>\n",
       "      <td>1.317885e+09</td>\n",
       "      <td>1.311020e+09</td>\n",
       "      <td>1.303720e+09</td>\n",
       "      <td>1.296075e+09</td>\n",
       "      <td>1.288400e+09</td>\n",
       "      <td>1.280400e+09</td>\n",
       "      <td>1.271850e+09</td>\n",
       "    </tr>\n",
       "  </tbody>\n",
       "</table>\n",
       "<p>8 rows × 22 columns</p>\n",
       "</div>"
      ],
      "text/plain": [
       "               2022          2021          2020          2019          2018  \\\n",
       "count  1.085000e+03  1.085000e+03  1.085000e+03  1.085000e+03  1.085000e+03   \n",
       "mean   1.461378e+07  1.449711e+07  1.437307e+07  1.422876e+07  1.407966e+07   \n",
       "std    7.832944e+07  7.801505e+07  7.763257e+07  7.712985e+07  7.657562e+07   \n",
       "min    2.749000e+01  2.732503e+01  2.735104e+01  2.676295e+01  2.573928e+01   \n",
       "25%    5.034029e+01  5.035172e+01  5.034171e+01  5.033040e+01  5.033917e+01   \n",
       "50%    1.465500e+05  1.463660e+05  1.461650e+05  1.459570e+05  1.457520e+05   \n",
       "75%    5.903468e+06  5.856733e+06  5.831404e+06  5.814422e+06  5.774185e+06   \n",
       "max    1.417173e+09  1.412360e+09  1.411100e+09  1.407745e+09  1.402760e+09   \n",
       "\n",
       "               2017          2016          2015          2014          2013  \\\n",
       "count  1.085000e+03  1.085000e+03  1.085000e+03  1.085000e+03  1.085000e+03   \n",
       "mean   1.392568e+07  1.376711e+07  1.360705e+07  1.344625e+07  1.328368e+07   \n",
       "std    7.596457e+07  7.528760e+07  7.461740e+07  7.394894e+07  7.325356e+07   \n",
       "min    2.508394e+01  2.464721e+01  2.474106e+01  2.540718e+01  2.594943e+01   \n",
       "25%    5.033041e+01  5.033966e+01  5.033554e+01  5.032504e+01  5.033767e+01   \n",
       "50%    1.441350e+05  1.406060e+05  1.371850e+05  1.349620e+05  1.328960e+05   \n",
       "75%    5.686999e+06  5.629265e+06  5.544490e+06  5.524552e+06  5.480089e+06   \n",
       "max    1.396215e+09  1.387790e+09  1.379860e+09  1.371860e+09  1.363240e+09   \n",
       "\n",
       "       ...          2010          2009          2008          2007  \\\n",
       "count  ...  1.085000e+03  1.085000e+03  1.085000e+03  1.085000e+03   \n",
       "mean   ...  1.280537e+07  1.265031e+07  1.249535e+07  1.234099e+07   \n",
       "std    ...  7.113128e+07  7.047509e+07  6.982016e+07  6.915934e+07   \n",
       "min    ...  2.425072e+01  2.339422e+01  2.356750e+01  2.520779e+01   \n",
       "25%    ...  5.034833e+01  5.036836e+01  5.037388e+01  5.036880e+01   \n",
       "50%    ...  1.263090e+05  1.244660e+05  1.228070e+05  1.209490e+05   \n",
       "75%    ...  5.267970e+06  5.187356e+06  5.100083e+06  5.062560e+06   \n",
       "max    ...  1.337705e+09  1.331260e+09  1.324655e+09  1.317885e+09   \n",
       "\n",
       "               2006          2005          2004          2003          2002  \\\n",
       "count  1.085000e+03  1.085000e+03  1.085000e+03  1.085000e+03  1.085000e+03   \n",
       "mean   1.218858e+07  1.203685e+07  1.188626e+07  1.173626e+07  1.158653e+07   \n",
       "std    6.849229e+07  6.780708e+07  6.710041e+07  6.638386e+07  6.565651e+07   \n",
       "min    2.831990e+01  3.096426e+01  3.129133e+01  3.137472e+01  3.146521e+01   \n",
       "25%    5.038085e+01  5.037186e+01  5.036210e+01  5.039432e+01  5.039371e+01   \n",
       "50%    1.190890e+05  1.171330e+05  1.152950e+05  1.136960e+05  1.134500e+05   \n",
       "75%    5.007301e+06  4.989584e+06  4.813244e+06  4.758988e+06  4.698968e+06   \n",
       "max    1.311020e+09  1.303720e+09  1.296075e+09  1.288400e+09  1.280400e+09   \n",
       "\n",
       "               2001  \n",
       "count  1.085000e+03  \n",
       "mean   1.143598e+07  \n",
       "std    6.490862e+07  \n",
       "min    3.156689e+01  \n",
       "25%    5.038254e+01  \n",
       "50%    1.136410e+05  \n",
       "75%    4.535518e+06  \n",
       "max    1.271850e+09  \n",
       "\n",
       "[8 rows x 22 columns]"
      ]
     },
     "execution_count": 8,
     "metadata": {},
     "output_type": "execute_result"
    }
   ],
   "source": [
    "df.describe()"
   ]
  },
  {
   "cell_type": "markdown",
   "id": "686047af-ddcf-461e-8ba9-b77b1b80d43d",
   "metadata": {},
   "source": [
    "## checking for duplicate values"
   ]
  },
  {
   "cell_type": "code",
   "execution_count": 9,
   "id": "88208115-eaab-4646-9da6-a9faea63bff5",
   "metadata": {},
   "outputs": [
    {
     "data": {
      "text/plain": [
       "np.int64(0)"
      ]
     },
     "execution_count": 9,
     "metadata": {},
     "output_type": "execute_result"
    }
   ],
   "source": [
    "df.duplicated().sum()"
   ]
  },
  {
   "cell_type": "markdown",
   "id": "3e4e96ef-8de8-41b1-86f1-ca0a9b014333",
   "metadata": {},
   "source": [
    "## checking for missing values"
   ]
  },
  {
   "cell_type": "code",
   "execution_count": 10,
   "id": "27dd67b1-2b42-405d-a142-f36eb76eb062",
   "metadata": {},
   "outputs": [
    {
     "data": {
      "text/plain": [
       "Series Name     0\n",
       "Series Code     0\n",
       "Country Name    0\n",
       "Country Code    0\n",
       "2022            0\n",
       "2021            0\n",
       "2020            0\n",
       "2019            0\n",
       "2018            0\n",
       "2017            0\n",
       "2016            0\n",
       "2015            0\n",
       "2014            0\n",
       "2013            0\n",
       "2012            0\n",
       "2011            0\n",
       "2010            0\n",
       "2009            0\n",
       "2008            0\n",
       "2007            0\n",
       "2006            0\n",
       "2005            0\n",
       "2004            0\n",
       "2003            0\n",
       "2002            0\n",
       "2001            0\n",
       "dtype: int64"
      ]
     },
     "execution_count": 10,
     "metadata": {},
     "output_type": "execute_result"
    }
   ],
   "source": [
    "df.isna().sum()"
   ]
  },
  {
   "cell_type": "markdown",
   "id": "26ee186b-0576-447c-b2c9-d323ad665ee7",
   "metadata": {},
   "source": [
    "## checking unique values for columns"
   ]
  },
  {
   "cell_type": "code",
   "execution_count": 11,
   "id": "f699c389-7771-4f39-bae7-440a841c34c2",
   "metadata": {},
   "outputs": [
    {
     "name": "stdout",
     "output_type": "stream",
     "text": [
      "['Afghanistan' 'Albania' 'Algeria' 'American Samoa' 'Andorra' 'Angola'\n",
      " 'Antigua and Barbuda' 'Argentina' 'Armenia' 'Aruba' 'Australia' 'Austria'\n",
      " 'Azerbaijan' 'Bahamas, The' 'Bahrain' 'Bangladesh' 'Barbados' 'Belarus'\n",
      " 'Belgium' 'Belize' 'Benin' 'Bermuda' 'Bhutan' 'Bolivia'\n",
      " 'Bosnia and Herzegovina' 'Botswana' 'Brazil' 'British Virgin Islands'\n",
      " 'Brunei Darussalam' 'Bulgaria' 'Burkina Faso' 'Burundi' 'Cabo Verde'\n",
      " 'Cambodia' 'Cameroon' 'Canada' 'Cayman Islands'\n",
      " 'Central African Republic' 'Chad' 'Channel Islands' 'Chile' 'China'\n",
      " 'Colombia' 'Comoros' 'Congo, Dem. Rep.' 'Congo, Rep.' 'Costa Rica'\n",
      " \"Cote d'Ivoire\" 'Croatia' 'Cuba' 'Curacao' 'Cyprus' 'Czechia' 'Denmark'\n",
      " 'Djibouti' 'Dominica' 'Dominican Republic' 'Ecuador' 'Egypt, Arab Rep.'\n",
      " 'El Salvador' 'Equatorial Guinea' 'Eritrea' 'Estonia' 'Eswatini'\n",
      " 'Ethiopia' 'Faroe Islands' 'Fiji' 'Finland' 'France' 'French Polynesia'\n",
      " 'Gabon' 'Gambia, The' 'Georgia' 'Germany' 'Ghana' 'Gibraltar' 'Greece'\n",
      " 'Greenland' 'Grenada' 'Guam' 'Guatemala' 'Guinea' 'Guinea-Bissau'\n",
      " 'Guyana' 'Haiti' 'Honduras' 'Hong Kong SAR, China' 'Hungary' 'Iceland'\n",
      " 'India' 'Indonesia' 'Iran, Islamic Rep.' 'Iraq' 'Ireland' 'Isle of Man'\n",
      " 'Israel' 'Italy' 'Jamaica' 'Japan' 'Jordan' 'Kazakhstan' 'Kenya'\n",
      " 'Kiribati' \"Korea, Dem. People's Rep.\" 'Korea, Rep.' 'Kosovo' 'Kuwait'\n",
      " 'Kyrgyz Republic' 'Lao PDR' 'Latvia' 'Lebanon' 'Lesotho' 'Liberia'\n",
      " 'Libya' 'Liechtenstein' 'Lithuania' 'Luxembourg' 'Macao SAR, China'\n",
      " 'Madagascar' 'Malawi' 'Malaysia' 'Maldives' 'Mali' 'Malta'\n",
      " 'Marshall Islands' 'Mauritania' 'Mauritius' 'Mexico'\n",
      " 'Micronesia, Fed. Sts.' 'Moldova' 'Monaco' 'Mongolia' 'Montenegro'\n",
      " 'Morocco' 'Mozambique' 'Myanmar' 'Namibia' 'Nauru' 'Nepal' 'Netherlands'\n",
      " 'New Caledonia' 'New Zealand' 'Nicaragua' 'Niger' 'Nigeria'\n",
      " 'North Macedonia' 'Northern Mariana Islands' 'Norway' 'Oman' 'Pakistan'\n",
      " 'Palau' 'Panama' 'Papua New Guinea' 'Paraguay' 'Peru' 'Philippines'\n",
      " 'Poland' 'Portugal' 'Puerto Rico' 'Qatar' 'Romania' 'Russian Federation'\n",
      " 'Rwanda' 'Samoa' 'San Marino' 'Sao Tome and Principe' 'Saudi Arabia'\n",
      " 'Senegal' 'Serbia' 'Seychelles' 'Sierra Leone' 'Singapore'\n",
      " 'Sint Maarten (Dutch part)' 'Slovak Republic' 'Slovenia'\n",
      " 'Solomon Islands' 'Somalia' 'South Africa' 'South Sudan' 'Spain'\n",
      " 'Sri Lanka' 'St. Kitts and Nevis' 'St. Lucia' 'St. Martin (French part)'\n",
      " 'St. Vincent and the Grenadines' 'Sudan' 'Suriname' 'Sweden'\n",
      " 'Switzerland' 'Syrian Arab Republic' 'Tajikistan' 'Tanzania' 'Thailand'\n",
      " 'Timor-Leste' 'Togo' 'Tonga' 'Trinidad and Tobago' 'Tunisia' 'Turkiye'\n",
      " 'Turkmenistan' 'Turks and Caicos Islands' 'Tuvalu' 'Uganda' 'Ukraine'\n",
      " 'United Arab Emirates' 'United Kingdom' 'United States' 'Uruguay'\n",
      " 'Uzbekistan' 'Vanuatu' 'Venezuela, RB' 'Vietnam' 'Virgin Islands (U.S.)'\n",
      " 'West Bank and Gaza' 'Yemen, Rep.' 'Zambia' 'Zimbabwe']\n",
      "\n",
      " Total no of unique countries: 217\n"
     ]
    }
   ],
   "source": [
    "print(df['Country Name'].unique())\n",
    "print(\"\\n Total no of unique countries:\",df['Country Name'].nunique())"
   ]
  },
  {
   "cell_type": "code",
   "execution_count": 12,
   "id": "91797621-0b5c-4556-9892-9c460318fb16",
   "metadata": {},
   "outputs": [
    {
     "name": "stdout",
     "output_type": "stream",
     "text": [
      "['AFG' 'ALB' 'DZA' 'ASM' 'AND' 'AGO' 'ATG' 'ARG' 'ARM' 'ABW' 'AUS' 'AUT'\n",
      " 'AZE' 'BHS' 'BHR' 'BGD' 'BRB' 'BLR' 'BEL' 'BLZ' 'BEN' 'BMU' 'BTN' 'BOL'\n",
      " 'BIH' 'BWA' 'BRA' 'VGB' 'BRN' 'BGR' 'BFA' 'BDI' 'CPV' 'KHM' 'CMR' 'CAN'\n",
      " 'CYM' 'CAF' 'TCD' 'CHI' 'CHL' 'CHN' 'COL' 'COM' 'COD' 'COG' 'CRI' 'CIV'\n",
      " 'HRV' 'CUB' 'CUW' 'CYP' 'CZE' 'DNK' 'DJI' 'DMA' 'DOM' 'ECU' 'EGY' 'SLV'\n",
      " 'GNQ' 'ERI' 'EST' 'SWZ' 'ETH' 'FRO' 'FJI' 'FIN' 'FRA' 'PYF' 'GAB' 'GMB'\n",
      " 'GEO' 'DEU' 'GHA' 'GIB' 'GRC' 'GRL' 'GRD' 'GUM' 'GTM' 'GIN' 'GNB' 'GUY'\n",
      " 'HTI' 'HND' 'HKG' 'HUN' 'ISL' 'IND' 'IDN' 'IRN' 'IRQ' 'IRL' 'IMN' 'ISR'\n",
      " 'ITA' 'JAM' 'JPN' 'JOR' 'KAZ' 'KEN' 'KIR' 'PRK' 'KOR' 'XKX' 'KWT' 'KGZ'\n",
      " 'LAO' 'LVA' 'LBN' 'LSO' 'LBR' 'LBY' 'LIE' 'LTU' 'LUX' 'MAC' 'MDG' 'MWI'\n",
      " 'MYS' 'MDV' 'MLI' 'MLT' 'MHL' 'MRT' 'MUS' 'MEX' 'FSM' 'MDA' 'MCO' 'MNG'\n",
      " 'MNE' 'MAR' 'MOZ' 'MMR' 'NAM' 'NRU' 'NPL' 'NLD' 'NCL' 'NZL' 'NIC' 'NER'\n",
      " 'NGA' 'MKD' 'MNP' 'NOR' 'OMN' 'PAK' 'PLW' 'PAN' 'PNG' 'PRY' 'PER' 'PHL'\n",
      " 'POL' 'PRT' 'PRI' 'QAT' 'ROU' 'RUS' 'RWA' 'WSM' 'SMR' 'STP' 'SAU' 'SEN'\n",
      " 'SRB' 'SYC' 'SLE' 'SGP' 'SXM' 'SVK' 'SVN' 'SLB' 'SOM' 'ZAF' 'SSD' 'ESP'\n",
      " 'LKA' 'KNA' 'LCA' 'MAF' 'VCT' 'SDN' 'SUR' 'SWE' 'CHE' 'SYR' 'TJK' 'TZA'\n",
      " 'THA' 'TLS' 'TGO' 'TON' 'TTO' 'TUN' 'TUR' 'TKM' 'TCA' 'TUV' 'UGA' 'UKR'\n",
      " 'ARE' 'GBR' 'USA' 'URY' 'UZB' 'VUT' 'VEN' 'VNM' 'VIR' 'PSE' 'YEM' 'ZMB'\n",
      " 'ZWE']\n",
      "\n",
      " Total no of unique country Code: 217\n"
     ]
    }
   ],
   "source": [
    "print(df['Country Code'].unique())\n",
    "print(\"\\n Total no of unique country Code:\",df['Country Code'].nunique())"
   ]
  },
  {
   "cell_type": "markdown",
   "id": "ebeef679-c6eb-40d6-857f-de8c01df7a61",
   "metadata": {},
   "source": [
    "## dropping unnecessary coulmns"
   ]
  },
  {
   "cell_type": "code",
   "execution_count": 13,
   "id": "d685deb6-7165-4f66-91aa-8dff52fa7ae5",
   "metadata": {},
   "outputs": [],
   "source": [
    "df.drop(['Series Name','Country Name'],axis=1,inplace=True)"
   ]
  },
  {
   "cell_type": "markdown",
   "id": "6aacc181-9a22-4b50-8ccf-5d55ee048e69",
   "metadata": {},
   "source": [
    "## Extraction of top 10 countries with respect to total population"
   ]
  },
  {
   "cell_type": "code",
   "execution_count": 14,
   "id": "d6f60159-c296-482b-b7a9-91fbb4ab1e10",
   "metadata": {},
   "outputs": [
    {
     "name": "stdout",
     "output_type": "stream",
     "text": [
      "Top ten countries of total population\n",
      "\n",
      "    Country Code\n",
      "89           IND\n",
      "41           CHN\n",
      "206          USA\n",
      "90           IDN\n",
      "149          PAK\n",
      "144          NGA\n",
      "26           BRA\n",
      "15           BGD\n",
      "161          RUS\n",
      "127          MEX\n"
     ]
    }
   ],
   "source": [
    "# filter data for total population\n",
    "total_population_data=df[df['Series Code']=='SP.POP.TOTL']\n",
    "\n",
    "#sort data based on the total population for 2022\n",
    "total_population_sorted=total_population_data.sort_values(by=\"2022\",ascending = False)\n",
    "\n",
    "# Get the top ten countries with the highest total population for 2022\n",
    "total_top_ten_countries=total_population_sorted.head(10)\n",
    "print(\"Top ten countries of total population\\n\")\n",
    "print(total_top_ten_countries[['Country Code']])"
   ]
  },
  {
   "cell_type": "markdown",
   "id": "93f06dae-5cb5-45b3-9b66-756a895c3215",
   "metadata": {},
   "source": [
    "# Bar plot"
   ]
  },
  {
   "cell_type": "markdown",
   "id": "7f42bed9-af7b-403a-a6a0-76e7d19bd95f",
   "metadata": {},
   "source": [
    "## Top ten years of total popultion in year 2022 and 2016\n"
   ]
  },
  {
   "cell_type": "code",
   "execution_count": 15,
   "id": "73c239e9-c722-458e-9ff3-5142f98e459f",
   "metadata": {},
   "outputs": [
    {
     "name": "stderr",
     "output_type": "stream",
     "text": [
      "C:\\Users\\visha\\AppData\\Local\\Temp\\ipykernel_14560\\2168007840.py:4: FutureWarning: \n",
      "\n",
      "Passing `palette` without assigning `hue` is deprecated and will be removed in v0.14.0. Assign the `y` variable to `hue` and set `legend=False` for the same effect.\n",
      "\n",
      "  sns.barplot(x=\"2022\", y=\"Country Code\", data=total_top_ten_countries,palette=\"coolwarm\")\n"
     ]
    },
    {
     "data": {
      "image/png": "[encoded data removed]",
      "text/plain": [
       "<Figure size 1500x600 with 1 Axes>"
      ]
     },
     "metadata": {},
     "output_type": "display_data"
    },
    {
     "name": "stderr",
     "output_type": "stream",
     "text": [
      "C:\\Users\\visha\\AppData\\Local\\Temp\\ipykernel_14560\\2168007840.py:13: FutureWarning: \n",
      "\n",
      "Passing `palette` without assigning `hue` is deprecated and will be removed in v0.14.0. Assign the `y` variable to `hue` and set `legend=False` for the same effect.\n",
      "\n",
      "  sns.barplot(x=\"2016\", y=\"Country Code\", data=total_top_ten_countries,palette=\"coolwarm\")\n"
     ]
    },
    {
     "data": {
      "image/png": "[encoded data removed]",
      "text/plain": [
       "<Figure size 1500x600 with 1 Axes>"
      ]
     },
     "metadata": {},
     "output_type": "display_data"
    }
   ],
   "source": [
    "#create a bar plot\n",
    "plt.figure(figsize=(15,6))\n",
    "plt.subplot(2,2,1)\n",
    "sns.barplot(x=\"2022\", y=\"Country Code\", data=total_top_ten_countries,palette=\"coolwarm\")\n",
    "plt.title(\"Top ten countries of total population (2022)\", fontsize=10)\n",
    "plt.xlabel(\"Total population\", fontsize=10)\n",
    "plt.ylabel(\"Country\",fontsize=10)\n",
    "plt.show()\n",
    "\n",
    "#create a bar plot\n",
    "plt.figure(figsize=(15,6))\n",
    "plt.subplot(2,2,2)\n",
    "sns.barplot(x=\"2016\", y=\"Country Code\", data=total_top_ten_countries,palette=\"coolwarm\")\n",
    "plt.title(\"Top ten countries of total population (2016)\", fontsize=10)\n",
    "plt.xlabel(\"Total population\", fontsize=10)\n",
    "plt.ylabel(\"Country\",fontsize=10)\n",
    "plt.show()"
   ]
  },
  {
   "cell_type": "markdown",
   "id": "0f49da87-c271-43f1-82cc-d781b6ad400a",
   "metadata": {},
   "source": [
    "## Extraction of bottom 10 countries with respect to total population\n"
   ]
  },
  {
   "cell_type": "code",
   "execution_count": 17,
   "id": "5d66e3aa-e73a-470e-b767-9858e20934b2",
   "metadata": {},
   "outputs": [
    {
     "name": "stdout",
     "output_type": "stream",
     "text": [
      "Bottom ten countries of total population\n",
      "\n",
      "    Country Code\n",
      "124          MHL\n",
      "114          LIE\n",
      "130          MCO\n",
      "164          SMR\n",
      "75           GIB\n",
      "183          MAF\n",
      "27           VGB\n",
      "150          PLW\n",
      "137          NRU\n",
      "201          TUV\n"
     ]
    }
   ],
   "source": [
    "#sort data based on the total population for 2022\n",
    "total_population_sorted1=total_population_data.sort_values(by=\"2022\",ascending = False)\n",
    "\n",
    "# Get the top ten countries with the highest total population for 2022\n",
    "total_bottom_ten_countries=total_population_sorted.tail(10)\n",
    "print(\"Bottom ten countries of total population\\n\")\n",
    "print(total_bottom_ten_countries[['Country Code']])"
   ]
  },
  {
   "cell_type": "markdown",
   "id": "69dcbf9c-ca96-4f00-8ac0-cf3b96067557",
   "metadata": {},
   "source": [
    "## Bottom ten years of total popultion in year 2022 and 2016¶\n"
   ]
  },
  {
   "cell_type": "code",
   "execution_count": 19,
   "id": "878fd780-e999-4d48-a52c-61178e171ecb",
   "metadata": {},
   "outputs": [
    {
     "name": "stderr",
     "output_type": "stream",
     "text": [
      "C:\\Users\\visha\\AppData\\Local\\Temp\\ipykernel_14560\\2374588631.py:4: FutureWarning: \n",
      "\n",
      "Passing `palette` without assigning `hue` is deprecated and will be removed in v0.14.0. Assign the `y` variable to `hue` and set `legend=False` for the same effect.\n",
      "\n",
      "  sns.barplot(x=\"2022\", y=\"Country Code\", data=total_bottom_ten_countries,palette=\"coolwarm\")\n"
     ]
    },
    {
     "data": {
      "image/png": "[encoded data removed]",
      "text/plain": [
       "<Figure size 1500x600 with 1 Axes>"
      ]
     },
     "metadata": {},
     "output_type": "display_data"
    },
    {
     "name": "stderr",
     "output_type": "stream",
     "text": [
      "C:\\Users\\visha\\AppData\\Local\\Temp\\ipykernel_14560\\2374588631.py:13: FutureWarning: \n",
      "\n",
      "Passing `palette` without assigning `hue` is deprecated and will be removed in v0.14.0. Assign the `y` variable to `hue` and set `legend=False` for the same effect.\n",
      "\n",
      "  sns.barplot(x=\"2016\", y=\"Country Code\", data=total_bottom_ten_countries,palette=\"coolwarm\")\n"
     ]
    },
    {
     "data": {
      "image/png": "[encoded data removed]",
      "text/plain": [
       "<Figure size 1500x600 with 1 Axes>"
      ]
     },
     "metadata": {},
     "output_type": "display_data"
    }
   ],
   "source": [
    "#create a bar plot\n",
    "plt.figure(figsize=(15,6))\n",
    "plt.subplot(2,2,1)\n",
    "sns.barplot(x=\"2022\", y=\"Country Code\", data=total_bottom_ten_countries,palette=\"coolwarm\")\n",
    "plt.title(\"Bottom ten countries of total population (2022)\", fontsize=10)\n",
    "plt.xlabel(\"Total population\", fontsize=10)\n",
    "plt.ylabel(\"Country\",fontsize=10)\n",
    "plt.show()\n",
    "\n",
    "#create a bar plot\n",
    "plt.figure(figsize=(15,6))\n",
    "plt.subplot(2,2,2)\n",
    "sns.barplot(x=\"2016\", y=\"Country Code\", data=total_bottom_ten_countries,palette=\"coolwarm\")\n",
    "plt.title(\"Bottom ten countries of total population (2016)\", fontsize=10)\n",
    "plt.xlabel(\"Total population\", fontsize=10)\n",
    "plt.ylabel(\"Country\",fontsize=10)\n",
    "plt.show()"
   ]
  },
  {
   "cell_type": "markdown",
   "id": "0543b145-adfb-4399-a576-0ac4ef8c81bd",
   "metadata": {},
   "source": [
    "## Extraction to top 10 countries with highest male population"
   ]
  },
  {
   "cell_type": "markdown",
   "id": "f4cebd82-0832-4d3b-a82c-fac628af22c4",
   "metadata": {},
   "source": [
    "## Top ten countries with highest male and female population 2022"
   ]
  },
  {
   "cell_type": "code",
   "execution_count": 20,
   "id": "1a92aeb4-9a17-4692-8488-7da933b360a5",
   "metadata": {},
   "outputs": [
    {
     "name": "stdout",
     "output_type": "stream",
     "text": [
      "Top ten countries of male population\n",
      "    Country Code\n",
      "523          IND\n",
      "475          CHN\n",
      "640          USA\n",
      "524          IDN\n",
      "583          PAK\n",
      "578          NGA\n",
      "460          BRA\n",
      "449          BGD\n",
      "595          RUS\n",
      "561          MEX\n"
     ]
    }
   ],
   "source": [
    "#filter data for male population\n",
    "male_population_data=df[df['Series Code']=='SP.POP.TOTL.MA.IN']\n",
    "\n",
    "#sort data based on male population for 2022\n",
    "male_population_sorted = male_population_data.sort_values(by=\"2022\",ascending=False)\n",
    "\n",
    "#Get the top 10 countries with the highest male population for 2022\n",
    "male_top_ten_countries = male_population_sorted.head(10)\n",
    "print(\"Top ten countries of male population\")\n",
    "print(male_top_ten_countries[['Country Code']])"
   ]
  },
  {
   "cell_type": "code",
   "execution_count": 21,
   "id": "3bd02fcd-e58c-43d3-803a-ddb856ebae64",
   "metadata": {},
   "outputs": [
    {
     "name": "stdout",
     "output_type": "stream",
     "text": [
      "Top ten countries of female population\n",
      "    Country Code\n",
      "258          CHN\n",
      "306          IND\n",
      "423          USA\n",
      "307          IDN\n",
      "366          PAK\n",
      "243          BRA\n",
      "361          NGA\n",
      "232          BGD\n",
      "378          RUS\n",
      "344          MEX\n"
     ]
    }
   ],
   "source": [
    "#filter data for male population\n",
    "female_population_data=df[df['Series Code']=='SP.POP.TOTL.FE.IN']\n",
    "\n",
    "#sort data based on male population for 2022\n",
    "female_population_sorted = female_population_data.sort_values(by=\"2022\",ascending=False)\n",
    "\n",
    "#Get the top 10 countries with the highest male population for 2022\n",
    "female_top_ten_countries = female_population_sorted.head(10)\n",
    "print(\"Top ten countries of female population\")\n",
    "print(female_top_ten_countries[['Country Code']])"
   ]
  },
  {
   "cell_type": "markdown",
   "id": "d4d3feaa-a9de-4a45-bb26-1c62c4a229c3",
   "metadata": {},
   "source": [
    "## Top ten countries with highest male and female population in 2022"
   ]
  },
  {
   "cell_type": "code",
   "execution_count": 22,
   "id": "0892704b-5751-4bed-ae05-38d4b31e8c94",
   "metadata": {},
   "outputs": [
    {
     "name": "stderr",
     "output_type": "stream",
     "text": [
      "C:\\Users\\visha\\AppData\\Local\\Temp\\ipykernel_14560\\265032597.py:4: FutureWarning: \n",
      "\n",
      "Passing `palette` without assigning `hue` is deprecated and will be removed in v0.14.0. Assign the `y` variable to `hue` and set `legend=False` for the same effect.\n",
      "\n",
      "  sns.barplot(x=\"2022\", y=\"Country Code\", data=male_top_ten_countries,palette=\"viridis\")\n"
     ]
    },
    {
     "data": {
      "image/png": "[encoded data removed]",
      "text/plain": [
       "<Figure size 1500x600 with 1 Axes>"
      ]
     },
     "metadata": {},
     "output_type": "display_data"
    },
    {
     "name": "stderr",
     "output_type": "stream",
     "text": [
      "C:\\Users\\visha\\AppData\\Local\\Temp\\ipykernel_14560\\265032597.py:13: FutureWarning: \n",
      "\n",
      "Passing `palette` without assigning `hue` is deprecated and will be removed in v0.14.0. Assign the `y` variable to `hue` and set `legend=False` for the same effect.\n",
      "\n",
      "  sns.barplot(x=\"2016\", y=\"Country Code\", data=female_top_ten_countries,palette=\"viridis\")\n"
     ]
    },
    {
     "data": {
      "image/png": "[encoded data removed]",
      "text/plain": [
       "<Figure size 1500x600 with 1 Axes>"
      ]
     },
     "metadata": {},
     "output_type": "display_data"
    }
   ],
   "source": [
    "#create a bar plot\n",
    "plt.figure(figsize=(15,6))\n",
    "plt.subplot(2,2,1)\n",
    "sns.barplot(x=\"2022\", y=\"Country Code\", data=male_top_ten_countries,palette=\"viridis\")\n",
    "plt.title(\"Top ten countries of male population (2022)\", fontsize=10)\n",
    "plt.xlabel(\"Male population\", fontsize=10)\n",
    "plt.ylabel(\"Country\",fontsize=10)\n",
    "plt.show()\n",
    "\n",
    "#create a bar plot\n",
    "plt.figure(figsize=(15,6))\n",
    "plt.subplot(2,2,2)\n",
    "sns.barplot(x=\"2016\", y=\"Country Code\", data=female_top_ten_countries,palette=\"viridis\")\n",
    "plt.title(\"Top ten countries of female population (2022)\", fontsize=10)\n",
    "plt.xlabel(\"Female population\", fontsize=10)\n",
    "plt.ylabel(\"Country\",fontsize=10)\n",
    "plt.show()"
   ]
  },
  {
   "cell_type": "markdown",
   "id": "b5d77ce9-8e94-464c-a025-b7af024f7bca",
   "metadata": {},
   "source": [
    "# Stacked bar plot"
   ]
  },
  {
   "cell_type": "markdown",
   "id": "20344378-d14a-4c65-9186-bc2f59617f73",
   "metadata": {},
   "source": [
    "## Top ten countries with male and female population"
   ]
  },
  {
   "cell_type": "code",
   "execution_count": 26,
   "id": "673de5a8-52db-4127-b6f7-4d7d016782f4",
   "metadata": {},
   "outputs": [],
   "source": [
    "#merge male and female population data on 'Country Code'\n",
    "merge_data=pd.merge(male_population_data,female_population_data,on=\"Country Code\",suffixes=(\"_male\",\"_female\"))"
   ]
  },
  {
   "cell_type": "code",
   "execution_count": 31,
   "id": "ca325657-fdd5-45bb-86a7-d24a1ab29f54",
   "metadata": {},
   "outputs": [],
   "source": [
    "#merged data\n",
    "merge_data[\"Total population\"]=merge_data[\"2022_male\"] + merge_data[\"2022_female\"]"
   ]
  },
  {
   "cell_type": "code",
   "execution_count": 32,
   "id": "db5b4c55-79a0-4d93-8f7b-08e6a10dd368",
   "metadata": {},
   "outputs": [
    {
     "data": {
      "text/html": [
       "<div>\n",
       "<style scoped>\n",
       "    .dataframe tbody tr th:only-of-type {\n",
       "        vertical-align: middle;\n",
       "    }\n",
       "\n",
       "    .dataframe tbody tr th {\n",
       "        vertical-align: top;\n",
       "    }\n",
       "\n",
       "    .dataframe thead th {\n",
       "        text-align: right;\n",
       "    }\n",
       "</style>\n",
       "<table border=\"1\" class=\"dataframe\">\n",
       "  <thead>\n",
       "    <tr style=\"text-align: right;\">\n",
       "      <th></th>\n",
       "      <th>Series Code_male</th>\n",
       "      <th>Country Code</th>\n",
       "      <th>2022_male</th>\n",
       "      <th>2021_male</th>\n",
       "      <th>2020_male</th>\n",
       "      <th>2019_male</th>\n",
       "      <th>2018_male</th>\n",
       "      <th>2017_male</th>\n",
       "      <th>2016_male</th>\n",
       "      <th>2015_male</th>\n",
       "      <th>...</th>\n",
       "      <th>2009_female</th>\n",
       "      <th>2008_female</th>\n",
       "      <th>2007_female</th>\n",
       "      <th>2006_female</th>\n",
       "      <th>2005_female</th>\n",
       "      <th>2004_female</th>\n",
       "      <th>2003_female</th>\n",
       "      <th>2002_female</th>\n",
       "      <th>2001_female</th>\n",
       "      <th>Total population</th>\n",
       "    </tr>\n",
       "  </thead>\n",
       "  <tbody>\n",
       "    <tr>\n",
       "      <th>0</th>\n",
       "      <td>SP.POP.TOTL.MA.IN</td>\n",
       "      <td>AFG</td>\n",
       "      <td>20766442.0</td>\n",
       "      <td>20254878.0</td>\n",
       "      <td>19692301.0</td>\n",
       "      <td>19090409.0</td>\n",
       "      <td>18549862.0</td>\n",
       "      <td>18028696.0</td>\n",
       "      <td>17520861.0</td>\n",
       "      <td>17071446.0</td>\n",
       "      <td>...</td>\n",
       "      <td>13557331.0</td>\n",
       "      <td>13088192.0</td>\n",
       "      <td>12835340.0</td>\n",
       "      <td>12614497.0</td>\n",
       "      <td>12109086.0</td>\n",
       "      <td>11690825.0</td>\n",
       "      <td>11247647.0</td>\n",
       "      <td>10438055.0</td>\n",
       "      <td>9793166.0</td>\n",
       "      <td>41128771.0</td>\n",
       "    </tr>\n",
       "    <tr>\n",
       "      <th>1</th>\n",
       "      <td>SP.POP.TOTL.MA.IN</td>\n",
       "      <td>ALB</td>\n",
       "      <td>1384548.0</td>\n",
       "      <td>1404454.0</td>\n",
       "      <td>1419264.0</td>\n",
       "      <td>1428828.0</td>\n",
       "      <td>1435881.0</td>\n",
       "      <td>1440219.0</td>\n",
       "      <td>1442176.0</td>\n",
       "      <td>1444890.0</td>\n",
       "      <td>...</td>\n",
       "      <td>1462978.0</td>\n",
       "      <td>1474838.0</td>\n",
       "      <td>1488396.0</td>\n",
       "      <td>1501918.0</td>\n",
       "      <td>1513578.0</td>\n",
       "      <td>1523393.0</td>\n",
       "      <td>1531532.0</td>\n",
       "      <td>1538490.0</td>\n",
       "      <td>1543533.0</td>\n",
       "      <td>2775633.0</td>\n",
       "    </tr>\n",
       "    <tr>\n",
       "      <th>2</th>\n",
       "      <td>SP.POP.TOTL.MA.IN</td>\n",
       "      <td>DZA</td>\n",
       "      <td>22862237.0</td>\n",
       "      <td>22497244.0</td>\n",
       "      <td>22132899.0</td>\n",
       "      <td>21756903.0</td>\n",
       "      <td>21362603.0</td>\n",
       "      <td>20961313.0</td>\n",
       "      <td>20556314.0</td>\n",
       "      <td>20152232.0</td>\n",
       "      <td>...</td>\n",
       "      <td>17249096.0</td>\n",
       "      <td>16941031.0</td>\n",
       "      <td>16653361.0</td>\n",
       "      <td>16384158.0</td>\n",
       "      <td>16150274.0</td>\n",
       "      <td>15932047.0</td>\n",
       "      <td>15709725.0</td>\n",
       "      <td>15497822.0</td>\n",
       "      <td>15288132.0</td>\n",
       "      <td>44903224.0</td>\n",
       "    </tr>\n",
       "    <tr>\n",
       "      <th>3</th>\n",
       "      <td>SP.POP.TOTL.MA.IN</td>\n",
       "      <td>ASM</td>\n",
       "      <td>21873.0</td>\n",
       "      <td>22289.0</td>\n",
       "      <td>22921.0</td>\n",
       "      <td>23535.0</td>\n",
       "      <td>24134.0</td>\n",
       "      <td>24701.0</td>\n",
       "      <td>25240.0</td>\n",
       "      <td>25739.0</td>\n",
       "      <td>...</td>\n",
       "      <td>27406.0</td>\n",
       "      <td>27626.0</td>\n",
       "      <td>27842.0</td>\n",
       "      <td>28044.0</td>\n",
       "      <td>28230.0</td>\n",
       "      <td>28392.0</td>\n",
       "      <td>28521.0</td>\n",
       "      <td>28608.0</td>\n",
       "      <td>28649.0</td>\n",
       "      <td>44272.0</td>\n",
       "    </tr>\n",
       "    <tr>\n",
       "      <th>4</th>\n",
       "      <td>SP.POP.TOTL.MA.IN</td>\n",
       "      <td>AND</td>\n",
       "      <td>40786.0</td>\n",
       "      <td>40361.0</td>\n",
       "      <td>39615.0</td>\n",
       "      <td>38842.0</td>\n",
       "      <td>38071.0</td>\n",
       "      <td>37380.0</td>\n",
       "      <td>36628.0</td>\n",
       "      <td>36188.0</td>\n",
       "      <td>...</td>\n",
       "      <td>36065.0</td>\n",
       "      <td>36864.0</td>\n",
       "      <td>37633.0</td>\n",
       "      <td>38392.0</td>\n",
       "      <td>38147.0</td>\n",
       "      <td>36852.0</td>\n",
       "      <td>35478.0</td>\n",
       "      <td>34076.0</td>\n",
       "      <td>32669.0</td>\n",
       "      <td>79824.0</td>\n",
       "    </tr>\n",
       "  </tbody>\n",
       "</table>\n",
       "<p>5 rows × 48 columns</p>\n",
       "</div>"
      ],
      "text/plain": [
       "    Series Code_male Country Code   2022_male   2021_male   2020_male  \\\n",
       "0  SP.POP.TOTL.MA.IN          AFG  20766442.0  20254878.0  19692301.0   \n",
       "1  SP.POP.TOTL.MA.IN          ALB   1384548.0   1404454.0   1419264.0   \n",
       "2  SP.POP.TOTL.MA.IN          DZA  22862237.0  22497244.0  22132899.0   \n",
       "3  SP.POP.TOTL.MA.IN          ASM     21873.0     22289.0     22921.0   \n",
       "4  SP.POP.TOTL.MA.IN          AND     40786.0     40361.0     39615.0   \n",
       "\n",
       "    2019_male   2018_male   2017_male   2016_male   2015_male  ...  \\\n",
       "0  19090409.0  18549862.0  18028696.0  17520861.0  17071446.0  ...   \n",
       "1   1428828.0   1435881.0   1440219.0   1442176.0   1444890.0  ...   \n",
       "2  21756903.0  21362603.0  20961313.0  20556314.0  20152232.0  ...   \n",
       "3     23535.0     24134.0     24701.0     25240.0     25739.0  ...   \n",
       "4     38842.0     38071.0     37380.0     36628.0     36188.0  ...   \n",
       "\n",
       "   2009_female  2008_female  2007_female  2006_female  2005_female  \\\n",
       "0   13557331.0   13088192.0   12835340.0   12614497.0   12109086.0   \n",
       "1    1462978.0    1474838.0    1488396.0    1501918.0    1513578.0   \n",
       "2   17249096.0   16941031.0   16653361.0   16384158.0   16150274.0   \n",
       "3      27406.0      27626.0      27842.0      28044.0      28230.0   \n",
       "4      36065.0      36864.0      37633.0      38392.0      38147.0   \n",
       "\n",
       "   2004_female  2003_female  2002_female  2001_female  Total population  \n",
       "0   11690825.0   11247647.0   10438055.0    9793166.0        41128771.0  \n",
       "1    1523393.0    1531532.0    1538490.0    1543533.0         2775633.0  \n",
       "2   15932047.0   15709725.0   15497822.0   15288132.0        44903224.0  \n",
       "3      28392.0      28521.0      28608.0      28649.0           44272.0  \n",
       "4      36852.0      35478.0      34076.0      32669.0           79824.0  \n",
       "\n",
       "[5 rows x 48 columns]"
      ]
     },
     "execution_count": 32,
     "metadata": {},
     "output_type": "execute_result"
    }
   ],
   "source": [
    "merge_data.head()"
   ]
  },
  {
   "cell_type": "code",
   "execution_count": 33,
   "id": "fc376583-6284-486c-96f1-2df71662950d",
   "metadata": {},
   "outputs": [],
   "source": [
    "#sort data based on total popualtion in descending order\n",
    "sorted_data= merge_data.sort_values(by=\"Total population\",ascending=False)"
   ]
  },
  {
   "cell_type": "markdown",
   "id": "6c89c536-4d38-4619-83d4-1a309221e08b",
   "metadata": {},
   "source": [
    " ## select the top 10 countries with hghest total population\n",
    " "
   ]
  },
  {
   "cell_type": "code",
   "execution_count": 34,
   "id": "494cb35f-ca86-4883-b8d4-e4416f58e5de",
   "metadata": {},
   "outputs": [],
   "source": [
    "top_10_countries = sorted_data.head(10)"
   ]
  },
  {
   "cell_type": "code",
   "execution_count": 40,
   "id": "64968807-1ed1-4f36-b2ed-b928af26d64a",
   "metadata": {},
   "outputs": [
    {
     "data": {
      "image/png": "[encoded data removed]",
      "text/plain": [
       "<Figure size 1200x600 with 1 Axes>"
      ]
     },
     "metadata": {},
     "output_type": "display_data"
    }
   ],
   "source": [
    "#create the stack bar plot\n",
    "plt.figure(figsize=(12,6))\n",
    "sns.barplot(x=\"Country Code\",y=\"2022_female\",data=top_10_countries,color=\"lightpink\",label=\"female Population\")\n",
    "sns.barplot(x=\"Country Code\",y=\"2022_male\",data=top_10_countries,bottom=top_10_countries[\"2022_female\"],color=\"blue\",label=\"male Population\")\n",
    "plt.xlabel(\"Country\")\n",
    "plt.ylabel(\"population\")\n",
    "plt.legend()\n",
    "plt.xticks(rotation=45,ha=\"right\")\n",
    "plt.show()"
   ]
  },
  {
   "cell_type": "markdown",
   "id": "4465a57e-6572-4ccf-8806-5d7072835152",
   "metadata": {},
   "source": [
    "## Bottom top 10 countries with male and female population(2022)"
   ]
  },
  {
   "cell_type": "code",
   "execution_count": 44,
   "id": "a6ef7e62-291e-41ae-84ea-5e9e125ee878",
   "metadata": {},
   "outputs": [],
   "source": [
    "#select the top ten countries with highest total population\n",
    "bottom_10_countries = sorted_data.tail(10)"
   ]
  },
  {
   "cell_type": "code",
   "execution_count": 50,
   "id": "cfefb621-41d7-4e5e-9ef8-9e71b40ce8fa",
   "metadata": {},
   "outputs": [
    {
     "data": {
      "image/png": "[encoded data removed]",
      "text/plain": [
       "<Figure size 1200x600 with 1 Axes>"
      ]
     },
     "metadata": {},
     "output_type": "display_data"
    }
   ],
   "source": [
    "#create the stack bar plot\n",
    "plt.figure(figsize=(12,6))\n",
    "sns.barplot(x=\"Country Code\",y=\"2022_female\",data=bottom_10_countries,color=\"orange\",label=\"female Population\")\n",
    "sns.barplot(x=\"Country Code\",y=\"2022_male\",data=bottom_10_countries,bottom=bottom_10_countries[\"2022_female\"],color=\"yellow\",label=\"male Population\")\n",
    "plt.xlabel(\"Country\")\n",
    "plt.ylabel(\"population\")\n",
    "plt.legend()\n",
    "plt.xticks(rotation=45,ha=\"right\")\n",
    "plt.show()"
   ]
  },
  {
   "cell_type": "code",
   "execution_count": null,
   "id": "f283808f-6a7f-43c9-8e7f-0b917a148cd1",
   "metadata": {},
   "outputs": [],
   "source": []
  }
 ],
 "metadata": {
  "kernelspec": {
   "display_name": "Python 3 (ipykernel)",
   "language": "python",
   "name": "python3"
  },
  "language_info": {
   "codemirror_mode": {
    "name": "ipython",
    "version": 3
   },
   "file_extension": ".py",
   "mimetype": "text/x-python",
   "name": "python",
   "nbconvert_exporter": "python",
   "pygments_lexer": "ipython3",
   "version": "3.12.5"
  }
 },
 "nbformat": 4,
 "nbformat_minor": 5
}
